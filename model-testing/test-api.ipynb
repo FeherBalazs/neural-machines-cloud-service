{
 "cells": [
  {
   "cell_type": "code",
   "execution_count": 2,
   "metadata": {
    "collapsed": true
   },
   "outputs": [],
   "source": [
    "import requests\n",
    "import json"
   ]
  },
  {
   "cell_type": "markdown",
   "metadata": {},
   "source": [
    "#### Example input for predict_timepoint API"
   ]
  },
  {
   "cell_type": "code",
   "execution_count": 12,
   "metadata": {
    "collapsed": true
   },
   "outputs": [],
   "source": [
    "x = [ 0.,  1.,  0.,  0.,  0.,  0.,  0.,  0.,  0.,  0.,  0.,  0.,  0., 1.,  0.,  1.,  0.,  0.,  0.,  0.,  0.,  0.,  0.,  0.,  0.,  0., 0.,  0.,  0.,  0.,  0.,  0.,  0.,  0.,  0.,  0.,  0.,  0.,  0., 0.,  0.,  0.,  0.,  0.,  0.,  0.]"
   ]
  },
  {
   "cell_type": "markdown",
   "metadata": {},
   "source": [
    "### Request API on Local Network"
   ]
  },
  {
   "cell_type": "code",
   "execution_count": 4,
   "metadata": {},
   "outputs": [
    {
     "name": "stdout",
     "output_type": "stream",
     "text": [
      "Prediction: 8070.75\n",
      "\n"
     ]
    }
   ],
   "source": [
    "url_call = \"http://127.0.0.1:9000/predict_timepoint\"\n",
    "response = requests.post(url_call, data = {'data': x})\n",
    "print('Prediction: {}'.format(response.text))"
   ]
  },
  {
   "cell_type": "markdown",
   "metadata": {},
   "source": [
    "### Request API on PCF"
   ]
  },
  {
   "cell_type": "markdown",
   "metadata": {},
   "source": [
    "#### Test polarity_compute"
   ]
  },
  {
   "cell_type": "code",
   "execution_count": 5,
   "metadata": {
    "collapsed": true
   },
   "outputs": [],
   "source": [
    "# First try a negative sentence. This should receive a low score.\n",
    "sentence = \"I hate debugging SQL. It makes me cry!\""
   ]
  },
  {
   "cell_type": "code",
   "execution_count": 6,
   "metadata": {},
   "outputs": [
    {
     "name": "stdout",
     "output_type": "stream",
     "text": [
      "Prediction: [ 0.18812947]\n",
      "\n"
     ]
    }
   ],
   "source": [
    "url_call = \"http://neural-machines.cfapps.io/polarity_compute\"\n",
    "response = requests.post(url_call, data = {\"data\":[sentence]})\n",
    "print('Prediction: {}'.format(response.text))"
   ]
  },
  {
   "cell_type": "code",
   "execution_count": 7,
   "metadata": {
    "collapsed": true
   },
   "outputs": [],
   "source": [
    "# Next, try a positive sentence. This should receive a high score.\n",
    "sentence = \"Building APIs is fun. It makes me happy!\""
   ]
  },
  {
   "cell_type": "code",
   "execution_count": 8,
   "metadata": {},
   "outputs": [
    {
     "name": "stdout",
     "output_type": "stream",
     "text": [
      "Prediction: [ 0.83625454]\n",
      "\n"
     ]
    }
   ],
   "source": [
    "url_call = \"http://neural-machines.cfapps.io/polarity_compute\"\n",
    "response = requests.post(url_call, data = {\"data\":[sentence]})\n",
    "print('Prediction: {}'.format(response.text))"
   ]
  },
  {
   "cell_type": "markdown",
   "metadata": {},
   "source": [
    "#### Test predict_timepoint"
   ]
  },
  {
   "cell_type": "code",
   "execution_count": 13,
   "metadata": {},
   "outputs": [
    {
     "name": "stdout",
     "output_type": "stream",
     "text": [
      "Prediction: 1.33012\n",
      "\n"
     ]
    }
   ],
   "source": [
    "url_call = \"http://neural-machines.cfapps.io/predict_timepoint\"\n",
    "response = requests.post(url_call, data = {'data': x})\n",
    "print('Prediction: {}'.format(response.text))"
   ]
  },
  {
   "cell_type": "code",
   "execution_count": null,
   "metadata": {
    "collapsed": true
   },
   "outputs": [],
   "source": []
  }
 ],
 "metadata": {
  "kernelspec": {
   "display_name": "Python 3",
   "language": "python",
   "name": "python3"
  }
 },
 "nbformat": 4,
 "nbformat_minor": 2
}
